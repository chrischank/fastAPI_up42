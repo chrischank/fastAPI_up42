{
 "cells": [
  {
   "cell_type": "code",
   "execution_count": 11,
   "metadata": {},
   "outputs": [],
   "source": [
    "# Sources:\n",
    "# https://github.com/sat-utils/sat-search\n",
    "# https://github.com/henriod/fastApi_sentinel\n",
    "#https://www.simonplanzer.com/articles/cog-ndvi-part1/\n",
    "# https://github.com/cristianmurillo87/ndvi-cog-catalog\n",
    "# https://stacspec.org/en/tutorials/access-sentinel-2-data-aws/\n",
    "# https://pythonawesome.com/how-to-use-cogs-cloud-optimized-geotiffs-with-rasterio/\n",
    "\n",
    "import matplotlib.pyplot as plt\n",
    "import matplotlib.animation as animation\n",
    "from shapely.geometry import shape\n",
    "import json\n",
    "import numpy as np\n",
    "import rasterio\n",
    "import geojson\n",
    "import copy\n",
    "import geopandas as gpd\n",
    "from rasterio.plot import show, reshape_as_image\n",
    "from pyproj import Transformer\n",
    "from satsearch import Search\n",
    "\n",
    "%matplotlib inline"
   ]
  },
  {
   "cell_type": "code",
   "execution_count": 12,
   "metadata": {},
   "outputs": [],
   "source": [
    "# Convert to bbox\n",
    "def get_bounding_box(geometry):\n",
    "    coords = np.array(list(geojson.utils.coords(geometry)))\n",
    "    return coords[:,0].min(), coords[:,1].min() , coords[:,0].max(), coords[:,1].max()"
   ]
  },
  {
   "cell_type": "code",
   "execution_count": 13,
   "metadata": {},
   "outputs": [
    {
     "name": "stdout",
     "output_type": "stream",
     "text": [
      "(7.163172, 50.015847, 7.173986, 50.019708)\n"
     ]
    }
   ],
   "source": [
    "# Sentinel-2 STAC API\n",
    "url = \"https://earth-search.aws.element84.com/v0/\"\n",
    "\n",
    "# Cloud cover tolerances\n",
    "scene_cloud_tolerance = 40 # (Variable) The % of cloud tolerated in the 100x100km Sentinel-2 scene\n",
    "subset_scene_cloud_tolerance = 2 # (Variable) The % of cloud tolerated in the area of interest \n",
    "\n",
    "# The date range for mapping NDVI overtime\n",
    "date_range = \"2022-11-01/2023-01-10\"\n",
    "\n",
    "# Bounding Box delineating the spatial extent for NDVI mapping\n",
    "geojson_data = {\n",
    "  \"type\": \"FeatureCollection\",\n",
    "  \"features\": [\n",
    "    {\n",
    "      \"type\": \"Feature\",\n",
    "      \"geometry\": {\n",
    "        \"type\": \"Polygon\",\n",
    "        \"coordinates\": [[\n",
    "           [7.163171768188476,50.01584714780868],\n",
    "           [7.1739864349365225,50.01584714780868],\n",
    "           [7.1739864349365225,50.01970768279515],\n",
    "           [7.163171768188476,50.01970768279515],\n",
    "           [7.163171768188476,50.01584714780868]\n",
    "        ]]\n",
    "      }\n",
    "    }\n",
    "  ]\n",
    "}\n",
    "\n",
    "parsed_dict = json.dumps(geojson_data)\n",
    "\n",
    "geojson_object = geojson.loads(parsed_dict)\n",
    "\n",
    "if geojson_object.is_valid:\n",
    "\n",
    "  geometry = geojson_object['features'][0]['geometry']\n",
    "\n",
    "  # convert to shapely object\n",
    "  geom = shape(geometry)\n",
    "\n",
    "  # get bounding box\n",
    "  bbox = geom.bounds\n",
    "\n",
    "  print(bbox)\n"
   ]
  },
  {
   "cell_type": "code",
   "execution_count": 14,
   "metadata": {},
   "outputs": [],
   "source": [
    "transform_window = None\n",
    "def range_request(image_url, bbox):\n",
    "    \"\"\"\n",
    "    Request and read just the required pixels from the COG\n",
    "    \"\"\"\n",
    "    \n",
    "    with rasterio.open(image_url) as src:\n",
    "        coord_transformer = Transformer.from_crs(\"epsg:4326\", src.crs)\n",
    "        # calculate pixels to be streamed from the COG\n",
    "        coord_upper_left = coord_transformer.transform(bbox[3], bbox[0])\n",
    "        coord_lower_right = coord_transformer.transform(bbox[1], bbox[2])\n",
    "        pixel_upper_left = src.index(coord_upper_left[0], coord_upper_left[1])\n",
    "        pixel_lower_right = src.index(coord_lower_right[0], coord_lower_right[1])\n",
    "         \n",
    "                \n",
    "        # request only the bytes in the window\n",
    "        window = rasterio.windows.Window.from_slices(\n",
    "            (pixel_upper_left[0], pixel_lower_right[0]),\n",
    "            (pixel_upper_left[1], pixel_lower_right[1]),\n",
    "        )\n",
    "\n",
    "        # The affine transform - This will allow us to \n",
    "        # translate pixels coordiantes back to geospatial coordiantes\n",
    "        transform_window = rasterio.windows.transform(window,src.transform)\n",
    "        \n",
    "        bands = 1\n",
    "        if \"TCI\" in image_url: # aka True Colour Image aka RGB\n",
    "            bands = [1, 2, 3]\n",
    "\n",
    "        subset = src.read(bands, window=window)\n",
    "        return(subset, transform_window)"
   ]
  },
  {
   "cell_type": "code",
   "execution_count": 15,
   "metadata": {},
   "outputs": [],
   "source": [
    "def image_search(bbox, date_range, scene_cloud_tolerance):\n",
    "    \"\"\"\n",
    "    Using SatSearch find all Sentinel-2 images\n",
    "    that meet our criteria\n",
    "    \"\"\"\n",
    "    \n",
    "    search = Search(\n",
    "        bbox=bbox,\n",
    "        datetime=date_range,\n",
    "        query={\n",
    "            \"eo:cloud_cover\": {\"lt\": scene_cloud_tolerance}\n",
    "        },  \n",
    "        collections=[\"sentinel-s2-l2a-cogs\"],\n",
    "        url=url,\n",
    "    )\n",
    "\n",
    "    return search.items()"
   ]
  },
  {
   "cell_type": "code",
   "execution_count": 16,
   "metadata": {},
   "outputs": [],
   "source": [
    "def is_cloudy(scl, tolerance):\n",
    "    \"\"\"\n",
    "    Calculate the cloud cover in the subset-scene\n",
    "    \"\"\"\n",
    "    \n",
    "    image_size = scl.size\n",
    "    unique, count = np.unique(scl, return_counts=True)\n",
    "    counts = dict(zip(unique, count))\n",
    "\n",
    "    # sum cloud types\n",
    "    cloud_med_probability = counts.get(8, 0)\n",
    "    cloud_high_probability = counts.get(9, 0)\n",
    "    thin_cirrus = counts.get(10, 0)\n",
    "    total_cloud_cover = cloud_med_probability + cloud_high_probability + thin_cirrus  \n",
    "    \n",
    "    # percent subscene cloud cover\n",
    "    percent_cloud_cover = 100 * float(total_cloud_cover) / float(image_size)\n",
    "    #print(f\"Cloud cover in the subset-scene: {percent_cloud_cover}%\")\n",
    "    if percent_cloud_cover > tolerance:\n",
    "        return True\n",
    "    return False"
   ]
  },
  {
   "cell_type": "code",
   "execution_count": 17,
   "metadata": {},
   "outputs": [],
   "source": [
    "def ndvi_mean(bbox, date_range, scene_cloud_tolerance):\n",
    "    \"\"\"\n",
    "    Compute the average NDVI value\n",
    "    \"\"\"\n",
    "    images = []\n",
    "\n",
    "    subset_scene_cloud_tolerance = 2\n",
    "\n",
    "    items = image_search(bbox, date_range, scene_cloud_tolerance)\n",
    "    for item in items:\n",
    "        \n",
    "        # Refs to images\n",
    "        red = item.asset(\"red\")[\"href\"]\n",
    "        nir = item.asset(\"nir\")[\"href\"]\n",
    "        scl = item.asset(\"SCL\")[\"href\"]\n",
    "        date = item.date.strftime(\"%d/%m/%Y\")\n",
    "        \n",
    "        # if subset_scene_cloud_tolerance is set. check for \n",
    "        # clouds in sub-scene before continuing \n",
    "        if subset_scene_cloud_tolerance:\n",
    "            #print(f\"Assessing Cloud Cover for {date}\")\n",
    "            scl_subset, transform_window = range_request(scl, bbox)\n",
    "            if is_cloudy(scl_subset, subset_scene_cloud_tolerance) == 0:\n",
    "                #print(f\"clouds in subset-scene: {date}\")\n",
    "\n",
    "                # Streamed pixels within bbox\n",
    "                red_subset, transform_window = range_request(red, bbox)\n",
    "                nir_subset, transform_window = range_request(nir, bbox)\n",
    "\n",
    "                # Calcualte NDVI\n",
    "                ndvi_subset = (nir_subset.astype(float) - red_subset.astype(float)) / (\n",
    "                    nir_subset + red_subset\n",
    "                )\n",
    "\n",
    "                # Calculate NDVI mean\n",
    "                ndvi_gtpt0 = copy.copy(ndvi_subset)\n",
    "                # Set all pixels with NDVI < 0 to nan, keeping only values > 0\n",
    "                ndvi_gtpt0[ndvi_subset<0] = np.nan\n",
    "                mean_NDVI=round(np.nanmean(ndvi_gtpt0),2)\n",
    "                #print(item)\n",
    "\n",
    "                # Store the data for further processing\n",
    "                images.append(\n",
    "                    {\"Average NDVI value\": mean_NDVI, \"date\": date,\n",
    "                     \"ndvi\": ndvi_subset, \"transform_window\": transform_window}\n",
    "                    )\n",
    "\n",
    "                break\n",
    "\n",
    "            else:\n",
    "\n",
    "                continue\n",
    "    \n",
    "    return images"
   ]
  },
  {
   "cell_type": "code",
   "execution_count": 18,
   "metadata": {},
   "outputs": [
    {
     "name": "stdout",
     "output_type": "stream",
     "text": [
      "[{'Average NDVI value': 0.82, 'date': '23/11/2022', 'ndvi': array([[0.82151394, 0.83979328, 0.79966208, ..., 0.79670862, 0.75889724,\n",
      "        0.75334018],\n",
      "       [0.73199683, 0.75899844, 0.76144319, ..., 0.78192178, 0.74584801,\n",
      "        0.7615009 ],\n",
      "       [0.6867052 , 0.7499288 , 0.79310345, ..., 0.78512397, 0.79668908,\n",
      "        0.79353493],\n",
      "       ...,\n",
      "       [0.84615385, 0.84107531, 0.80286904, ..., 0.87889536, 0.82817294,\n",
      "        0.82821447],\n",
      "       [0.84539066, 0.83210091, 0.79095164, ..., 0.8515105 , 0.81679389,\n",
      "        0.8175086 ],\n",
      "       [0.84218715, 0.81522259, 0.75997687, ..., 0.8649487 , 0.85281811,\n",
      "        0.83183183]]), 'transform_window': Affine(10.0, 0.0, 798190.0,\n",
      "       0.0, -10.0, 5549140.0)}]\n"
     ]
    }
   ],
   "source": [
    "ndvi_images = ndvi_mean(bbox, date_range, scene_cloud_tolerance)\n",
    "\n",
    "print(ndvi_images)"
   ]
  },
  {
   "cell_type": "code",
   "execution_count": 19,
   "metadata": {},
   "outputs": [
    {
     "data": {
      "image/png": "[encoded data removed]",
      "text/plain": [
       "<Figure size 640x480 with 1 Axes>"
      ]
     },
     "metadata": {},
     "output_type": "display_data"
    }
   ],
   "source": [
    "# Visualise NDVI\n",
    "\n",
    "for plot in zip(ndvi_images):\n",
    "    image = plot[0]\n",
    "    rgb_axes = show(image['ndvi'], \n",
    "                    transform = image['transform_window'], \n",
    "                    alpha = 0.75,\n",
    "                    cmap = \"RdYlGn\", \n",
    "                    title = image[\"date\"])\n",
    "    # show full y-coords\n",
    "    rgb_axes.ticklabel_format(style ='plain')"
   ]
  },
  {
   "cell_type": "code",
   "execution_count": 20,
   "metadata": {},
   "outputs": [
    {
     "name": "stdout",
     "output_type": "stream",
     "text": [
      "(7.163171768188476, 50.01584714780868, 7.1739864349365225, 50.01970768279515)\n"
     ]
    }
   ],
   "source": [
    "file = \"/Users/diego.alarcon/fastAPI_up42/assets/map.geojson\"\n",
    "\n",
    "# with open(file) as f:\n",
    "#     gj = geojson.load(f)\n",
    "#     #features = gj['features'][0]\n",
    "\n",
    "# if gj.is_valid:\n",
    "\n",
    "#   geometry = gj['features'][0]['geometry']\n",
    "\n",
    "#   # convert to shapely object\n",
    "#   geom = shape(geometry)\n",
    "\n",
    "#   # get bounding box\n",
    "#   bbox = geom.bounds\n",
    "\n",
    "#   print(bbox)\n",
    "\n",
    "##################################\n",
    "\n",
    "parsed_dict = geojson.dumps(file)\n",
    "\n",
    "geojson_object = geojson.loads(parsed_dict)\n",
    "\n",
    "#print(geojson_object)\n",
    "\n",
    "polygons_gdf = gpd.read_file(file)\n",
    "#print(polygons_gdf)\n",
    "\n",
    "geo_shapes = []\n",
    "\n",
    "for geo_shape in polygons_gdf.geometry.values:\n",
    "    geo_shapes.append(geo_shape)\n",
    "    #print(type(geo_shapes))\n",
    "    #print(geo_shapes[0])\n",
    "\n",
    "if geo_shapes[0].is_valid:\n",
    "\n",
    "    # convert to shapely object\n",
    "    geom2 = shape(geo_shapes[0])\n",
    "\n",
    "    # get bounding box\n",
    "    bbox2 = geom2.bounds\n",
    "    print(bbox2)"
   ]
  },
  {
   "cell_type": "code",
   "execution_count": null,
   "metadata": {},
   "outputs": [],
   "source": []
  }
 ],
 "metadata": {
  "kernelspec": {
   "display_name": "test",
   "language": "python",
   "name": "python3"
  },
  "language_info": {
   "codemirror_mode": {
    "name": "ipython",
    "version": 3
   },
   "file_extension": ".py",
   "mimetype": "text/x-python",
   "name": "python",
   "nbconvert_exporter": "python",
   "pygments_lexer": "ipython3",
   "version": "3.10.8 | packaged by conda-forge | (main, Nov 22 2022, 08:25:13) [Clang 14.0.6 ]"
  },
  "orig_nbformat": 4,
  "vscode": {
   "interpreter": {
    "hash": "dd35d0d2f47ffda01634c9676252f33987d44a0ea61035fce8b295334bc5a8d3"
   }
  }
 },
 "nbformat": 4,
 "nbformat_minor": 2
}
